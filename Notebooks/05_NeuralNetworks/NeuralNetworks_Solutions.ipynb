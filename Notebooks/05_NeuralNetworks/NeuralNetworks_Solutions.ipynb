{
  "nbformat": 4,
  "nbformat_minor": 0,
  "metadata": {
    "colab": {
      "name": "NeuralNetworks_Solutions.ipynb",
      "provenance": [],
      "collapsed_sections": []
    },
    "kernelspec": {
      "name": "python3",
      "display_name": "Python 3"
    }
  },
  "cells": [
    {
      "cell_type": "markdown",
      "metadata": {
        "id": "PlpG_fIiqdJU",
        "colab_type": "text"
      },
      "source": [
        "# Neural Network Exercise\n",
        "\n",
        "In this Exercise Notebook you will be building your own artificial neural network and seeing how adding different types of layers can affect the validation/testing accuracy. This is based off of the Simple Neural Network with Keras tutorial, so you can reference that for further explanations as well."
      ]
    },
    {
      "cell_type": "code",
      "metadata": {
        "id": "eFSzOvSduDf8",
        "colab_type": "code",
        "colab": {}
      },
      "source": [
        "import os\n",
        "import matplotlib.pyplot as plt\n",
        "import pandas as pd\n",
        "from sklearn.preprocessing import StandardScaler\n",
        "from sklearn.utils import shuffle\n",
        "from keras.models import Sequential\n",
        "from keras.layers import Dense\n",
        "import tensorflow as tf"
      ],
      "execution_count": 9,
      "outputs": []
    },
    {
      "cell_type": "code",
      "metadata": {
        "id": "Ep_09mlyqa5G",
        "colab_type": "code",
        "colab": {
          "base_uri": "https://localhost:8080/",
          "height": 35
        },
        "outputId": "547ecc77-c2ae-4b55-f7fc-2673f3757fd4"
      },
      "source": [
        "os.system('wget https://raw.githubusercontent.com/BeaverWorksMedlytics2020/Data_Public/master/NotebookExampleData/Week2/spoken_digit_manual_features.csv')"
      ],
      "execution_count": 10,
      "outputs": [
        {
          "output_type": "execute_result",
          "data": {
            "text/plain": [
              "0"
            ]
          },
          "metadata": {
            "tags": []
          },
          "execution_count": 10
        }
      ]
    },
    {
      "cell_type": "markdown",
      "metadata": {
        "id": "zChcGaqVysRB",
        "colab_type": "text"
      },
      "source": [
        "## Load Training Data and Pre-processed Features\n",
        "\n",
        "Your goal is to build a neural network that learns to classify which of the 5 speakers is recorded in a signal sample. Your prediction will be based off of features we've already pre-extracted for you and put into this CSV: spectral centroid `SC`, spectral flatness `SF`, and maximum frequency `MF`."
      ]
    },
    {
      "cell_type": "code",
      "metadata": {
        "id": "SVwsmOGvw7jp",
        "colab_type": "code",
        "colab": {
          "base_uri": "https://localhost:8080/",
          "height": 271
        },
        "outputId": "409b8bcb-249f-4f4e-f39b-c6747600a395"
      },
      "source": [
        "# Load csv containing raw data, labels, and pre-processed features\n",
        "spoken_df = pd.read_csv('spoken_digit_manual_features.csv', index_col = 0)\n",
        "print(spoken_df.head(10))\n",
        "print('\\n')\n",
        "\n",
        "# Set speakers\n",
        "speakers = set(spoken_df['speaker'])\n",
        "print(f'There are {len(speakers)} unique speakers in the dataset')"
      ],
      "execution_count": 11,
      "outputs": [
        {
          "output_type": "stream",
          "text": [
            "                file  digit   speaker  trial           SC        SF          MF\n",
            "0   5_yweweler_8.wav      5  yweweler      8  1029.497959  0.397336  745.878340\n",
            "1    3_george_49.wav      3    george      4  1881.296834  0.387050  323.943662\n",
            "2  9_yweweler_44.wav      9  yweweler      4  1093.951856  0.394981  244.648318\n",
            "3  8_yweweler_33.wav      8  yweweler      3  1409.543285  0.487496  392.350401\n",
            "4      7_theo_34.wav      7      theo      3   887.361601  0.396825  130.640309\n",
            "5   1_jackson_45.wav      1   jackson      4  1007.568129  0.324100  216.306156\n",
            "6  6_yweweler_18.wav      6  yweweler      1  1286.701352  0.498813  400.715564\n",
            "7    9_george_35.wav      9    george      3  1405.092061  0.353083  447.239693\n",
            "8   9_jackson_32.wav      9   jackson      3  1172.899961  0.477907  114.892780\n",
            "9    8_george_26.wav      8    george      2  1959.977577  0.462901  320.537966\n",
            "\n",
            "\n",
            "There are 5 unique speakers in the dataset\n"
          ],
          "name": "stdout"
        }
      ]
    },
    {
      "cell_type": "markdown",
      "metadata": {
        "id": "mArY7lB4Akv1",
        "colab_type": "text"
      },
      "source": [
        "Converting labels to \"onehot\" vectors:"
      ]
    },
    {
      "cell_type": "code",
      "metadata": {
        "id": "nLRtFkiYAc3N",
        "colab_type": "code",
        "colab": {}
      },
      "source": [
        "# Make dictionary to convert from speaker names to indices\n",
        "name2int_dict = {name: ind for (ind, name) in enumerate(set(spoken_df['speaker']))}\n",
        "\n",
        "y_labels = spoken_df['speaker']\n",
        "# Set y_labels to be indices of speaker\n",
        "y_labels = [name2int_dict[name] for name in y_labels]"
      ],
      "execution_count": 12,
      "outputs": []
    },
    {
      "cell_type": "markdown",
      "metadata": {
        "id": "xUhDZMw1A93D",
        "colab_type": "text"
      },
      "source": [
        "Standardize data and split into train, validation, and test sets:"
      ]
    },
    {
      "cell_type": "code",
      "metadata": {
        "id": "TAuzw6ibA3Es",
        "colab_type": "code",
        "colab": {}
      },
      "source": [
        "# Downselect to only the 3 columns of the dataset we are learning from, aka the features\n",
        "X_data = spoken_df[['SC', 'SF', 'MF']].to_numpy()\n",
        "\n",
        "# Decide how large to make validation and test sets\n",
        "n_val = 250\n",
        "n_test = 250\n",
        "\n",
        "# Shuffle data before partitioning\n",
        "X_data, y_labels = shuffle(X_data, y_labels, random_state = 25)\n",
        "\n",
        "# Partition\n",
        "X_data_test, y_labels_test = X_data[:n_test,:], y_labels[:n_test]\n",
        "X_data_val, y_labels_val = X_data[n_test:n_test+n_val,:], y_labels[n_test:n_test+n_val]\n",
        "X_data_train, y_labels_train = X_data[n_test+n_val:,:], y_labels[n_test+n_val:]\n",
        "\n",
        "# Scale data\n",
        "scaler = StandardScaler()\n",
        "X_data_train=scaler.fit_transform(X_data_train)\n",
        "X_data_val = scaler.transform(X_data_val)\n",
        "X_data_test = scaler.transform(X_data_test)\n",
        "\n",
        "# Convert labels to onehot\n",
        "y_labels_train = tf.keras.utils.to_categorical(y_labels_train, 5)\n",
        "y_labels_val =  tf.keras.utils.to_categorical(y_labels_val, 5)\n",
        "y_labels_test =  tf.keras.utils.to_categorical(y_labels_test, 5)\n",
        "\n",
        "training_set = tf.data.Dataset.from_tensor_slices((X_data_train, y_labels_train))"
      ],
      "execution_count": 13,
      "outputs": []
    },
    {
      "cell_type": "markdown",
      "metadata": {
        "id": "riycN8SdyxNT",
        "colab_type": "text"
      },
      "source": [
        "## Aditional Layers\n",
        "\n",
        "Before you get to writing your own neural network we'll show you some examples of additional layers you can potetially add that we didn't go over in the tutorial. After reading over our explanations/example code and going through documentation you'll be testing some of these out by putting together a neural network yourself."
      ]
    },
    {
      "cell_type": "markdown",
      "metadata": {
        "id": "DoaZsqc3iEyv",
        "colab_type": "text"
      },
      "source": [
        "### Dropout Layers\n",
        "\n",
        "Dropout layers randomly omit, or drop, some elements of the output vector from the layer, which helps prevent overfitting and can improve the generalization of your neural network. The dropout rate can be any number between 0 and 1.\n",
        "\n",
        "https://www.tensorflow.org/api_docs/python/tf/keras/layers/Dropout\n",
        "\n",
        "```python\n",
        "# Example\n",
        "d_r = 0.6\n",
        "tf.keras.layers.Dropout(rate=d_r)\n",
        "```"
      ]
    },
    {
      "cell_type": "markdown",
      "metadata": {
        "id": "gVJMrZ09iUgk",
        "colab_type": "text"
      },
      "source": [
        "### Pooling Layers\n",
        "\n",
        "A pooling layer reduces dimensionality (reducing the size of each feature map) and \"compresses\" information by combining several output elements. Two common functions used for pooling are:\n",
        "- Average pooling: calculating the average value for each patch on the feature map\n",
        "- Max pooling: calculating the maximum value for each patch of the feature map\n",
        "\n",
        "**Note: we won't be applying pooling in this exercise notebook but you'll be seeing more of it in future ones*"
      ]
    },
    {
      "cell_type": "markdown",
      "metadata": {
        "id": "72ngF_beiaV9",
        "colab_type": "text"
      },
      "source": [
        "### Activation Layers/Functions\n",
        "\n",
        "An activation function looks at each \"neuron\" in your neural network and determines whether it should be activated (fired) or not, based on the relevancy of the neuron's input to the model’s predictions. Some different activation functions you could look at are:\n",
        "- softmax https://www.tensorflow.org/api_docs/python/tf/keras/layers/Softmax\n",
        "- sigmoid https://www.tensorflow.org/api_docs/python/tf/keras/activations/sigmoid\n",
        "- softplus https://www.tensorflow.org/api_docs/python/tf/keras/activations/softplus\n",
        "- relu https://www.tensorflow.org/api_docs/python/tf/keras/layers/ReLU\n",
        "\n",
        "```python\n",
        "# Example\n",
        "tf.keras.layers.Softmax()\n",
        "```"
      ]
    },
    {
      "cell_type": "markdown",
      "metadata": {
        "id": "zCdxM6HDqR1F",
        "colab_type": "text"
      },
      "source": [
        "### Optimation Functions\n",
        "\n",
        "Optimation functions\n",
        "- Adam https://www.tensorflow.org/api_docs/python/tf/keras/optimizers/Adam\n",
        "  - Adam is computationally efficient, has little memory requirement, and is well suited for problems that are large in terms of data/parameter.\n",
        "- Adagrad https://www.tensorflow.org/api_docs/python/tf/keras/optimizers/Adagrad\n",
        "  - Adagrad is an optimizer that is best used for sparse data. Some of its benefits are that it converges more quickly and doesn't need manual adjustment of the hyperparameter \"learning rate\".\n",
        "- SGD https://www.tensorflow.org/api_docs/python/tf/keras/optimizers/SGD\n",
        "  - SGD is a stochastic gradient descent and momentum optimizer. SGD essentially helps gradient vectors move down loss functions towards the minimum point, leading to faster \"converging\".\n",
        "- RMSprop https://keras.io/api/optimizers/rmsprop/\n",
        "  - As you may already know, the learning rate regulates how much the model \n",
        "can change based on the estimated error (which occurs every time the model's weights are updated). Instead of treating the learning rate as a hyperparamter, RMSprop is an optimization technique that uses relies on a changing, adaptive learning rate.\n",
        "\n",
        "```python\n",
        "# Example code\n",
        "l_r = .001 \n",
        "tf.keras.optimizers.SGD(learning_rate=l_r)\n",
        "```"
      ]
    },
    {
      "cell_type": "markdown",
      "metadata": {
        "id": "ldbularZ3cCW",
        "colab_type": "text"
      },
      "source": [
        "## Putting Together Your Neural Network\n",
        "\n",
        "Now you will experiment with adding different layers to your neural network. We've added some guiding comments to give you a place to start and test out, but we also strongly encourage you to go through all the documetation and do some googling as well!"
      ]
    },
    {
      "cell_type": "code",
      "metadata": {
        "id": "qMp_z7W9vZV4",
        "colab_type": "code",
        "colab": {}
      },
      "source": [
        "# Once you've gone through all the tests play around with these rate alues to see if you can increase your accuracy\n",
        "l_r = .001 \n",
        "d_r = 0.6\n",
        "\n",
        "model = tf.keras.Sequential()\n",
        "model.add(tf.keras.layers.Dense(8, input_shape=(3,)))"
      ],
      "execution_count": 14,
      "outputs": []
    },
    {
      "cell_type": "markdown",
      "metadata": {
        "id": "8OQKRfNjBWGC",
        "colab_type": "text"
      },
      "source": [
        "### Test 1"
      ]
    },
    {
      "cell_type": "code",
      "metadata": {
        "id": "BneaEDk-BWj2",
        "colab_type": "code",
        "colab": {}
      },
      "source": [
        "# Run this cell as it is\n",
        "model.add(tf.keras.layers.Dense(8))\n",
        "model.add(tf.keras.layers.Dense(8))\n",
        "\n",
        "# output dimension needs to be number of classes in order for each to get a score\n",
        "model.add(tf.keras.layers.Dense(5))\n",
        "\n",
        "# Now skip down to the section that compiles and trains your model and run those cells.\n",
        "# Check the pseudo-test accuracy and see how well the bare minimum performed."
      ],
      "execution_count": 15,
      "outputs": []
    },
    {
      "cell_type": "markdown",
      "metadata": {
        "id": "djwaQho7_xBt",
        "colab_type": "text"
      },
      "source": [
        "### Test 2"
      ]
    },
    {
      "cell_type": "code",
      "metadata": {
        "id": "o2MQzNEa_ViW",
        "colab_type": "code",
        "colab": {}
      },
      "source": [
        "model.add(tf.keras.layers.Softmax())\n",
        "model.add(tf.keras.layers.Dense(8))\n",
        "model.add(tf.keras.layers.ReLU() )\n",
        "model.add(tf.keras.layers.Dense(8))\n",
        "model.add(tf.keras.layers.Softmax())\n",
        "\n",
        "# output dimension needs to be number of classes in order for each to get a score\n",
        "model.add(tf.keras.layers.Dense(5))\n",
        "\n",
        "# Now skip down to the section that compiles and trains your model and re-run those cells.\n",
        "# What do you notice about the testing/Validation accuracy after Test 2 in comparison to Test 1?"
      ],
      "execution_count": 21,
      "outputs": []
    },
    {
      "cell_type": "markdown",
      "metadata": {
        "id": "M_pr4L_0Bzt_",
        "colab_type": "text"
      },
      "source": [
        "### Test 3"
      ]
    },
    {
      "cell_type": "code",
      "metadata": {
        "id": "pb-7sVYkB11c",
        "colab_type": "code",
        "colab": {}
      },
      "source": [
        "model.add(tf.keras.layers.Softmax())\n",
        "model.add(tf.keras.layers.Dense(8))\n",
        "model.add(tf.keras.layers.ReLU() )\n",
        "model.add(tf.keras.layers.Dense(8))\n",
        "model.add(tf.keras.layers.Softmax())\n",
        "\n",
        "# output dimension needs to be number of classes in order for each to get a score\n",
        "model.add(tf.keras.layers.Dense(5))\n",
        "\n",
        "model.add(tf.keras.layers.Dropout(0.6))\n",
        "\n",
        "# Now skip down to the section that compiles and trains your model and re-run those cells.\n",
        "# What do you notice about the testing/Validation accuracy after Test 2 in comparison to Test 1 & 2?"
      ],
      "execution_count": 17,
      "outputs": []
    },
    {
      "cell_type": "markdown",
      "metadata": {
        "id": "YwjD-MgMDHFV",
        "colab_type": "text"
      },
      "source": [
        "### Test 4\n",
        "\n",
        "Now go back down to the cell where you compiled your model, and this time change the optimizer. It's been set to Adam as default but as we showed you above there are other functions that you can test out."
      ]
    },
    {
      "cell_type": "markdown",
      "metadata": {
        "id": "Qhna7lr5Dm56",
        "colab_type": "text"
      },
      "source": [
        "## Compiling and Training Your Model"
      ]
    },
    {
      "cell_type": "code",
      "metadata": {
        "id": "XB1qNpsoASGv",
        "colab_type": "code",
        "colab": {}
      },
      "source": [
        "model.compile(loss = tf.keras.losses.categorical_crossentropy, \n",
        "              optimizer = tf.keras.optimizers.Adam(learning_rate=l_r),\n",
        "              metrics = ['accuracy'])   "
      ],
      "execution_count": 22,
      "outputs": []
    },
    {
      "cell_type": "markdown",
      "metadata": {
        "id": "Tj1lwAY7BJPk",
        "colab_type": "text"
      },
      "source": [
        "Fit Model to Data, Specify Number of Epochs and Batch Size:"
      ]
    },
    {
      "cell_type": "code",
      "metadata": {
        "id": "uF2RT0eGBIlD",
        "colab_type": "code",
        "colab": {
          "base_uri": "https://localhost:8080/",
          "height": 1000
        },
        "outputId": "1a8a0bc0-20ca-47d1-c24f-862bf9bcba0a"
      },
      "source": [
        "EPOCHS = 50\n",
        "batch_size = 100\n",
        "\n",
        "training_set = training_set.batch(batch_size) #set batch size\n",
        "\n",
        "for epoch in range(EPOCHS):\n",
        "    for signals, labels in training_set:\n",
        "        tr_loss, tr_accuracy = model.train_on_batch(signals, labels)\n",
        "    val_loss, val_accuracy = model.evaluate(X_data_val, y_labels_val)\n",
        "    print(('Epoch #%d\\t Training Loss: %.2f\\tTraining Accuracy: %.2f\\t'\n",
        "         'Validation Loss: %.2f\\tValidation Accuracy: %.2f')\n",
        "         % (epoch + 1, tr_loss, tr_accuracy,\n",
        "         val_loss, val_accuracy))"
      ],
      "execution_count": 23,
      "outputs": [
        {
          "output_type": "stream",
          "text": [
            "WARNING:tensorflow:Model was constructed with shape (None, 3) for input Tensor(\"dense_1_input:0\", shape=(None, 3), dtype=float32), but it was called on an input with incompatible shape (20, 100, 3).\n",
            "WARNING:tensorflow:Model was constructed with shape (None, 3) for input Tensor(\"dense_1_input:0\", shape=(None, 3), dtype=float32), but it was called on an input with incompatible shape (20, 100, 3).\n",
            "8/8 [==============================] - 0s 2ms/step - loss: nan - accuracy: 0.2280\n",
            "Epoch #1\t Training Loss: nan\tTraining Accuracy: 0.19\tValidation Loss: nan\tValidation Accuracy: 0.23\n",
            "8/8 [==============================] - 0s 2ms/step - loss: nan - accuracy: 0.2280\n",
            "Epoch #2\t Training Loss: nan\tTraining Accuracy: 0.20\tValidation Loss: nan\tValidation Accuracy: 0.23\n",
            "8/8 [==============================] - 0s 2ms/step - loss: nan - accuracy: 0.2280\n",
            "Epoch #3\t Training Loss: nan\tTraining Accuracy: 0.20\tValidation Loss: nan\tValidation Accuracy: 0.23\n",
            "8/8 [==============================] - 0s 2ms/step - loss: nan - accuracy: 0.2280\n",
            "Epoch #4\t Training Loss: nan\tTraining Accuracy: 0.20\tValidation Loss: nan\tValidation Accuracy: 0.23\n",
            "8/8 [==============================] - 0s 2ms/step - loss: nan - accuracy: 0.2280\n",
            "Epoch #5\t Training Loss: nan\tTraining Accuracy: 0.20\tValidation Loss: nan\tValidation Accuracy: 0.23\n",
            "8/8 [==============================] - 0s 2ms/step - loss: nan - accuracy: 0.2280\n",
            "Epoch #6\t Training Loss: nan\tTraining Accuracy: 0.20\tValidation Loss: nan\tValidation Accuracy: 0.23\n",
            "8/8 [==============================] - 0s 2ms/step - loss: nan - accuracy: 0.2280\n",
            "Epoch #7\t Training Loss: nan\tTraining Accuracy: 0.20\tValidation Loss: nan\tValidation Accuracy: 0.23\n",
            "8/8 [==============================] - 0s 2ms/step - loss: nan - accuracy: 0.2280\n",
            "Epoch #8\t Training Loss: nan\tTraining Accuracy: 0.20\tValidation Loss: nan\tValidation Accuracy: 0.23\n",
            "8/8 [==============================] - 0s 2ms/step - loss: nan - accuracy: 0.2280\n",
            "Epoch #9\t Training Loss: nan\tTraining Accuracy: 0.20\tValidation Loss: nan\tValidation Accuracy: 0.23\n",
            "8/8 [==============================] - 0s 2ms/step - loss: nan - accuracy: 0.2280\n",
            "Epoch #10\t Training Loss: nan\tTraining Accuracy: 0.20\tValidation Loss: nan\tValidation Accuracy: 0.23\n",
            "8/8 [==============================] - 0s 2ms/step - loss: nan - accuracy: 0.2280\n",
            "Epoch #11\t Training Loss: nan\tTraining Accuracy: 0.20\tValidation Loss: nan\tValidation Accuracy: 0.23\n",
            "8/8 [==============================] - 0s 2ms/step - loss: nan - accuracy: 0.2280\n",
            "Epoch #12\t Training Loss: nan\tTraining Accuracy: 0.20\tValidation Loss: nan\tValidation Accuracy: 0.23\n",
            "8/8 [==============================] - 0s 2ms/step - loss: nan - accuracy: 0.2280\n",
            "Epoch #13\t Training Loss: nan\tTraining Accuracy: 0.20\tValidation Loss: nan\tValidation Accuracy: 0.23\n",
            "8/8 [==============================] - 0s 2ms/step - loss: nan - accuracy: 0.2280\n",
            "Epoch #14\t Training Loss: nan\tTraining Accuracy: 0.20\tValidation Loss: nan\tValidation Accuracy: 0.23\n",
            "8/8 [==============================] - 0s 2ms/step - loss: nan - accuracy: 0.2280\n",
            "Epoch #15\t Training Loss: nan\tTraining Accuracy: 0.20\tValidation Loss: nan\tValidation Accuracy: 0.23\n",
            "8/8 [==============================] - 0s 2ms/step - loss: nan - accuracy: 0.2280\n",
            "Epoch #16\t Training Loss: nan\tTraining Accuracy: 0.20\tValidation Loss: nan\tValidation Accuracy: 0.23\n",
            "8/8 [==============================] - 0s 2ms/step - loss: nan - accuracy: 0.2280\n",
            "Epoch #17\t Training Loss: nan\tTraining Accuracy: 0.20\tValidation Loss: nan\tValidation Accuracy: 0.23\n",
            "8/8 [==============================] - 0s 2ms/step - loss: nan - accuracy: 0.2280\n",
            "Epoch #18\t Training Loss: nan\tTraining Accuracy: 0.20\tValidation Loss: nan\tValidation Accuracy: 0.23\n",
            "8/8 [==============================] - 0s 2ms/step - loss: nan - accuracy: 0.2280\n",
            "Epoch #19\t Training Loss: nan\tTraining Accuracy: 0.20\tValidation Loss: nan\tValidation Accuracy: 0.23\n",
            "8/8 [==============================] - 0s 2ms/step - loss: nan - accuracy: 0.2280\n",
            "Epoch #20\t Training Loss: nan\tTraining Accuracy: 0.20\tValidation Loss: nan\tValidation Accuracy: 0.23\n",
            "8/8 [==============================] - 0s 2ms/step - loss: nan - accuracy: 0.2280\n",
            "Epoch #21\t Training Loss: nan\tTraining Accuracy: 0.20\tValidation Loss: nan\tValidation Accuracy: 0.23\n",
            "8/8 [==============================] - 0s 3ms/step - loss: nan - accuracy: 0.2280\n",
            "Epoch #22\t Training Loss: nan\tTraining Accuracy: 0.20\tValidation Loss: nan\tValidation Accuracy: 0.23\n",
            "8/8 [==============================] - 0s 2ms/step - loss: nan - accuracy: 0.2280\n",
            "Epoch #23\t Training Loss: nan\tTraining Accuracy: 0.20\tValidation Loss: nan\tValidation Accuracy: 0.23\n",
            "8/8 [==============================] - 0s 2ms/step - loss: nan - accuracy: 0.2280\n",
            "Epoch #24\t Training Loss: nan\tTraining Accuracy: 0.20\tValidation Loss: nan\tValidation Accuracy: 0.23\n",
            "8/8 [==============================] - 0s 2ms/step - loss: nan - accuracy: 0.2280\n",
            "Epoch #25\t Training Loss: nan\tTraining Accuracy: 0.20\tValidation Loss: nan\tValidation Accuracy: 0.23\n",
            "8/8 [==============================] - 0s 2ms/step - loss: nan - accuracy: 0.2280\n",
            "Epoch #26\t Training Loss: nan\tTraining Accuracy: 0.20\tValidation Loss: nan\tValidation Accuracy: 0.23\n",
            "8/8 [==============================] - 0s 2ms/step - loss: nan - accuracy: 0.2280\n",
            "Epoch #27\t Training Loss: nan\tTraining Accuracy: 0.20\tValidation Loss: nan\tValidation Accuracy: 0.23\n",
            "8/8 [==============================] - 0s 2ms/step - loss: nan - accuracy: 0.2280\n",
            "Epoch #28\t Training Loss: nan\tTraining Accuracy: 0.20\tValidation Loss: nan\tValidation Accuracy: 0.23\n",
            "8/8 [==============================] - 0s 2ms/step - loss: nan - accuracy: 0.2280\n",
            "Epoch #29\t Training Loss: nan\tTraining Accuracy: 0.20\tValidation Loss: nan\tValidation Accuracy: 0.23\n",
            "8/8 [==============================] - 0s 2ms/step - loss: nan - accuracy: 0.2280\n",
            "Epoch #30\t Training Loss: nan\tTraining Accuracy: 0.20\tValidation Loss: nan\tValidation Accuracy: 0.23\n",
            "8/8 [==============================] - 0s 2ms/step - loss: nan - accuracy: 0.2280\n",
            "Epoch #31\t Training Loss: nan\tTraining Accuracy: 0.20\tValidation Loss: nan\tValidation Accuracy: 0.23\n",
            "8/8 [==============================] - 0s 2ms/step - loss: nan - accuracy: 0.2280\n",
            "Epoch #32\t Training Loss: nan\tTraining Accuracy: 0.20\tValidation Loss: nan\tValidation Accuracy: 0.23\n",
            "8/8 [==============================] - 0s 2ms/step - loss: nan - accuracy: 0.2280\n",
            "Epoch #33\t Training Loss: nan\tTraining Accuracy: 0.20\tValidation Loss: nan\tValidation Accuracy: 0.23\n",
            "8/8 [==============================] - 0s 2ms/step - loss: nan - accuracy: 0.2280\n",
            "Epoch #34\t Training Loss: nan\tTraining Accuracy: 0.20\tValidation Loss: nan\tValidation Accuracy: 0.23\n",
            "8/8 [==============================] - 0s 3ms/step - loss: nan - accuracy: 0.2280\n",
            "Epoch #35\t Training Loss: nan\tTraining Accuracy: 0.20\tValidation Loss: nan\tValidation Accuracy: 0.23\n",
            "8/8 [==============================] - 0s 2ms/step - loss: nan - accuracy: 0.2280\n",
            "Epoch #36\t Training Loss: nan\tTraining Accuracy: 0.20\tValidation Loss: nan\tValidation Accuracy: 0.23\n",
            "8/8 [==============================] - 0s 2ms/step - loss: nan - accuracy: 0.2280\n",
            "Epoch #37\t Training Loss: nan\tTraining Accuracy: 0.20\tValidation Loss: nan\tValidation Accuracy: 0.23\n",
            "8/8 [==============================] - 0s 2ms/step - loss: nan - accuracy: 0.2280\n",
            "Epoch #38\t Training Loss: nan\tTraining Accuracy: 0.20\tValidation Loss: nan\tValidation Accuracy: 0.23\n",
            "8/8 [==============================] - 0s 2ms/step - loss: nan - accuracy: 0.2280\n",
            "Epoch #39\t Training Loss: nan\tTraining Accuracy: 0.20\tValidation Loss: nan\tValidation Accuracy: 0.23\n",
            "8/8 [==============================] - 0s 2ms/step - loss: nan - accuracy: 0.2280\n",
            "Epoch #40\t Training Loss: nan\tTraining Accuracy: 0.20\tValidation Loss: nan\tValidation Accuracy: 0.23\n",
            "8/8 [==============================] - 0s 2ms/step - loss: nan - accuracy: 0.2280\n",
            "Epoch #41\t Training Loss: nan\tTraining Accuracy: 0.20\tValidation Loss: nan\tValidation Accuracy: 0.23\n",
            "8/8 [==============================] - 0s 3ms/step - loss: nan - accuracy: 0.2280\n",
            "Epoch #42\t Training Loss: nan\tTraining Accuracy: 0.20\tValidation Loss: nan\tValidation Accuracy: 0.23\n",
            "8/8 [==============================] - 0s 2ms/step - loss: nan - accuracy: 0.2280\n",
            "Epoch #43\t Training Loss: nan\tTraining Accuracy: 0.20\tValidation Loss: nan\tValidation Accuracy: 0.23\n",
            "8/8 [==============================] - 0s 2ms/step - loss: nan - accuracy: 0.2280\n",
            "Epoch #44\t Training Loss: nan\tTraining Accuracy: 0.20\tValidation Loss: nan\tValidation Accuracy: 0.23\n",
            "8/8 [==============================] - 0s 2ms/step - loss: nan - accuracy: 0.2280\n",
            "Epoch #45\t Training Loss: nan\tTraining Accuracy: 0.20\tValidation Loss: nan\tValidation Accuracy: 0.23\n",
            "8/8 [==============================] - 0s 2ms/step - loss: nan - accuracy: 0.2280\n",
            "Epoch #46\t Training Loss: nan\tTraining Accuracy: 0.20\tValidation Loss: nan\tValidation Accuracy: 0.23\n",
            "8/8 [==============================] - 0s 2ms/step - loss: nan - accuracy: 0.2280\n",
            "Epoch #47\t Training Loss: nan\tTraining Accuracy: 0.20\tValidation Loss: nan\tValidation Accuracy: 0.23\n",
            "8/8 [==============================] - 0s 2ms/step - loss: nan - accuracy: 0.2280\n",
            "Epoch #48\t Training Loss: nan\tTraining Accuracy: 0.20\tValidation Loss: nan\tValidation Accuracy: 0.23\n",
            "8/8 [==============================] - 0s 2ms/step - loss: nan - accuracy: 0.2280\n",
            "Epoch #49\t Training Loss: nan\tTraining Accuracy: 0.20\tValidation Loss: nan\tValidation Accuracy: 0.23\n",
            "8/8 [==============================] - 0s 2ms/step - loss: nan - accuracy: 0.2280\n",
            "Epoch #50\t Training Loss: nan\tTraining Accuracy: 0.20\tValidation Loss: nan\tValidation Accuracy: 0.23\n"
          ],
          "name": "stdout"
        }
      ]
    },
    {
      "cell_type": "code",
      "metadata": {
        "id": "4GipGyEkBQdj",
        "colab_type": "code",
        "colab": {
          "base_uri": "https://localhost:8080/",
          "height": 35
        },
        "outputId": "41e3dbfc-3366-4023-a12f-bd73dcc364a4"
      },
      "source": [
        "#Check Performance on Test Set\n",
        "test_loss, test_accuracy = model.evaluate(X_data_test, y_labels_test)"
      ],
      "execution_count": 24,
      "outputs": [
        {
          "output_type": "stream",
          "text": [
            "8/8 [==============================] - 0s 2ms/step - loss: nan - accuracy: 0.2160\n"
          ],
          "name": "stdout"
        }
      ]
    },
    {
      "cell_type": "markdown",
      "metadata": {
        "id": "27YS-NCeMYeF",
        "colab_type": "text"
      },
      "source": [
        "Now create your own model, modify the existing model, and try to find the highest and appropriate testing and validation accuracy!"
      ]
    }
  ]
}
